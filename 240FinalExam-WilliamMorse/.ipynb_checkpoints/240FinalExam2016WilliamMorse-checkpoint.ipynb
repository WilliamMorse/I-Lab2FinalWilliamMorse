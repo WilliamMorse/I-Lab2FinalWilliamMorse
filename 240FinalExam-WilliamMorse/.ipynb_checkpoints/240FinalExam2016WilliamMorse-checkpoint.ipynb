{
 "cells": [
  {
   "cell_type": "markdown",
   "metadata": {},
   "source": [
    "# Physics 240 \n",
    "## Intermediate Physics Laboratory\n",
    "## FINAL EXAM\n",
    "\n",
    "### Instructions: \n",
    "Answer the following questions and typeset your answers within this notebook, \n",
    "using a mix of markdown and LaTeX code. Some of your work will likely be done\n",
    "by hand; for this work, make sure to turn in these calculations, but still put the \n",
    "answers in this Jupyter Notebook. \n",
    "\n",
    "Follow the steps below and answer the questions as indicated."
   ]
  },
  {
   "cell_type": "code",
   "execution_count": 1,
   "metadata": {
    "collapsed": false
   },
   "outputs": [
    {
     "data": {
      "text/html": [
       "<link href='http://fonts.googleapis.com/css?family=Fenix' rel='stylesheet' type='text/css'>\n",
       "<link href='http://fonts.googleapis.com/css?family=Alegreya+Sans:100,300,400,500,700,800,900,100italic,300italic,400italic,500italic,700italic,800italic,900italic' rel='stylesheet' type='text/css'>\n",
       "<link href='http://fonts.googleapis.com/css?family=Source+Code+Pro:300,400' rel='stylesheet' type='text/css'>\n",
       "<style>\n",
       "\n",
       "@font-face {\n",
       "    font-family: \"Computer Modern\";\n",
       "    src: url('http://mirrors.ctan.org/fonts/cm-unicode/fonts/otf/cmunss.otf');\n",
       "}\n",
       "\n",
       "\n",
       "#notebook_panel { /* main background */\n",
       "    background: rgb(245,245,245);\n",
       "}\n",
       "\n",
       "div.cell { /* set cell width */\n",
       "    width: 800px;\n",
       "}\n",
       "\n",
       "div #notebook { /* centre the content */\n",
       "    background: #fff; /* white background for content */\n",
       "    width: 1000px;\n",
       "    margin: auto;\n",
       "    padding-left: 0em;\n",
       "}\n",
       "\n",
       "#notebook li { /* More space between bullet points */\n",
       "margin-top:0.8em;\n",
       "}\n",
       "\n",
       "/* draw border around running cells */\n",
       "div.cell.border-box-sizing.code_cell.running {\n",
       "    border: 1px solid #111;\n",
       "}\n",
       "\n",
       "/* Put a solid color box around each cell and its output, visually linking them*/\n",
       "div.cell.code_cell {\n",
       "    background-color: rgb(256,256,256);\n",
       "    border-radius: 0px;\n",
       "    padding: 0.5em;\n",
       "    margin-left:1em;\n",
       "    margin-top: 1em;\n",
       "}\n",
       "\n",
       "\n",
       "div.text_cell_render{\n",
       "    font-family: 'Alegreya Sans' sans-serif;\n",
       "    line-height: 140%;\n",
       "    font-size: 125%;\n",
       "    font-weight: 400;\n",
       "    width:600px;\n",
       "    margin-left:auto;\n",
       "    margin-right:auto;\n",
       "}\n",
       "\n",
       "/* Formatting for header cells */\n",
       ".text_cell_render h1 {\n",
       "    font-family: 'Alegreya Sans', sans-serif;\n",
       "    font-style:regular;\n",
       "    font-weight: 200;\n",
       "    font-size: 45pt;\n",
       "    line-height: 100%;\n",
       "    color:#CD2305;\n",
       "    margin-bottom: 0.5em;\n",
       "    margin-top: 0.5em;\n",
       "    display: block;\n",
       "}\n",
       ".text_cell_render h2 {\n",
       "    font-family: 'Fenix', serif;\n",
       "    font-size: 22pt;\n",
       "    line-height: 100%;\n",
       "    margin-bottom: 0.1em;\n",
       "    margin-top: 0.3em;\n",
       "    display: block;\n",
       "}\n",
       "\n",
       ".text_cell_render h3 {\n",
       "    font-family: 'Fenix', serif;\n",
       "    margin-top:12px;\n",
       "\tfont-size: 16pt;\n",
       "    margin-bottom: 3px;\n",
       "    font-style: regular;\n",
       "}\n",
       "\n",
       ".text_cell_render h4 {    /*Use this for captions*/\n",
       "    font-family: 'Fenix', serif;\n",
       "    font-size: 2pt;\n",
       "    text-align: center;\n",
       "    margin-top: 0em;\n",
       "    margin-bottom: 2em;\n",
       "    font-style: regular;\n",
       "}\n",
       "\n",
       ".text_cell_render h5 {  /*Use this for small titles*/\n",
       "    font-family: 'Alegreya Sans', sans-serif;\n",
       "    font-weight: 300;\n",
       "    font-size: 16pt;\n",
       "    color: #CD2305;\n",
       "    font-style: italic;\n",
       "    margin-bottom: .5em;\n",
       "    margin-top: 0.5em;\n",
       "    display: block;\n",
       "}\n",
       "\n",
       ".text_cell_render h6 { /*use this for copyright note*/\n",
       "    font-family: 'Source Code Pro', sans-serif;\n",
       "    font-weight: 300;\n",
       "    font-size: 9pt;\n",
       "    line-height: 100%;\n",
       "    color: grey;\n",
       "    margin-bottom: 1px;\n",
       "    margin-top: 1px;\n",
       "}\n",
       "\n",
       "    .CodeMirror{\n",
       "            font-family: \"Source Code Pro\";\n",
       "\t\t\tfont-size: 90%;\n",
       "    }\n",
       "/*    .prompt{\n",
       "        display: None;\n",
       "    }*/\n",
       "\n",
       "\n",
       "    .warning{\n",
       "        color: rgb( 240, 20, 20 )\n",
       "        }\n",
       "</style>\n",
       "<script>\n",
       "    MathJax.Hub.Config({\n",
       "                        TeX: {\n",
       "                           extensions: [\"AMSmath.js\"],\n",
       "                           equationNumbers: { autoNumber: \"AMS\", useLabelIds: true}\n",
       "                           },\n",
       "                tex2jax: {\n",
       "                    inlineMath: [ ['$','$'], [\"\\\\(\",\"\\\\)\"] ],\n",
       "                    displayMath: [ ['$$','$$'], [\"\\\\[\",\"\\\\]\"] ]\n",
       "                },\n",
       "                displayAlign: 'center', // Change this to 'center' to center equations.\n",
       "                \"HTML-CSS\": {\n",
       "                    styles: {'.MathJax_Display': {\"margin\": 4}}\n",
       "                }\n",
       "        });\n",
       "</script>\n"
      ],
      "text/plain": [
       "<IPython.core.display.HTML object>"
      ]
     },
     "execution_count": 1,
     "metadata": {},
     "output_type": "execute_result"
    }
   ],
   "source": [
    "## This cell installs custom CSS Cell Styles obtained from \n",
    "## Prof. Lorena Barba at https://github.com/barbagroup/AeroPython \n",
    "from IPython.core.display import HTML\n",
    "def css_styling():\n",
    "    styles = open('styles/custom.css', 'r').read()\n",
    "    return HTML(styles)\n",
    "css_styling()"
   ]
  },
  {
   "cell_type": "markdown",
   "metadata": {},
   "source": [
    "## Step 1: Create a GitHub Repository and make an initial commit.\n",
    "    a. Create a folder in your Documents folder called LastnameFirstname240FinalExam.\n",
    "    b. Create a new repository within this folder called 240FinalExam\n",
    "    c. Save this file into the above folder as LastnameFirstnameAnswers.ipynb \n",
    "    d. You should then see an uncommitted change to the 240FinalExam repository; name this \"initial commit\"\n",
    "    and publish the changes.\n",
    "    \n",
    "For example, if your name was Albert Einstein, you'd create a folder called   \n",
    "    *EinsteinAlbert240FinalExam*,   \n",
    "then you would create a new GitHub repository (within this folder) called   \n",
    "    *240FinalExam*   \n",
    "and would save this file into the folder 240FinalExam as    \n",
    "    *EinsteinAlbertFinalAnswers.ipynb*   \n",
    "and upload the file to your github account. \n",
    "\n",
    "Hint: Once you complete steps (a) and (b), you can simply close and halt this notebook (from the Jupyter Notebook file menu, and use your file system browser to drag this file into the folder 240FinalExam. Then this file's existence should show up as as an uncommitted change which you can publish (after first labelling it as the initial commit, of course). \n",
    "\n",
    "All of the above may be easily done by using a GitHub Gui Client available for OSX, Linux, and Windoze at:\n",
    "https://github.com/gitterHQ/desktop\n",
    "\n",
    "For the following questions, I encourage you to make and publish a new commit after you finish each question.\n"
   ]
  },
  {
   "cell_type": "markdown",
   "metadata": {},
   "source": [
    "# Question 1\n",
    "## Statistical Uncertainty with dropped velociraptors\n",
    "\n",
    "<img src=\"Velociraptor.jpg\" width=150 height=150>\n",
    "\n",
    "A velociraptor is dropped from a height of 10.0 $\\pm$ 0.1 meters and the fall time   \n",
    "is measured to the nearest 0.01 seconds. This *experiment* is performed a dozen times with the following drop times in seconds obtained:   \n",
    "1.22, 1.39, 1.55, 1.43, 1.11, 1.64, 1.44, 1.33, 1.55, 1.49, 1.47, 1.35   \n",
    "Calculate the mean value of the drop time and the root mean square uncertainty, $\\Delta t_{rms}$. You may use python or---if you like suffering---your calculator. "
   ]
  },
  {
   "cell_type": "markdown",
   "metadata": {},
   "source": [
    "### Solution method :\n",
    "\n",
    "The rms is given by the sum of the squares of the deveations from the mean all square rooted.\n",
    "$$rms = \\sqrt{\\Delta t_1^2 + \\Delta t_2^2 + \\Delta t_3^2 + ...}$$\n",
    "we could use the uncertinties package for this, but let's do it out both long and short to compare our results. "
   ]
  },
  {
   "cell_type": "code",
   "execution_count": 20,
   "metadata": {
    "collapsed": false
   },
   "outputs": [
    {
     "name": "stdout",
     "output_type": "stream",
     "text": [
      "average fall time = 1.4142+/-0.0029 (seconds)\n",
      "if we print the sum we can see that the uncertinties package calculates \n",
      "one standard deveation not the rms.\n",
      "sum = 16.970+/-0.035\n"
     ]
    }
   ],
   "source": [
    "# Place any python code needed here.\n",
    "# First let's try it with the uncertinties package:\n",
    "from uncertainties import unumpy\n",
    "import uncertainties as u\n",
    "\n",
    "# make an array of times:\n",
    "times = [1.22, 1.39, 1.55, 1.43, 1.11, 1.64, 1.44, 1.33, 1.55, 1.49, 1.47, 1.35]\n",
    "timesU = unumpy.uarray(times, 0.01) # add the uncertinty to the time array\n",
    "averageTimeU = sum(timesU)/len(timesU)\n",
    "print('average fall time = %s (seconds)' % averageTimeU)\n",
    "print(\"if we print the sum we can see that the uncertinties package calculates \\none standard deveation not the rms.\\nsum = %s\" % sum(timesU))"
   ]
  },
  {
   "cell_type": "code",
   "execution_count": 42,
   "metadata": {
    "collapsed": false
   },
   "outputs": [
    {
     "name": "stdout",
     "output_type": "stream",
     "text": [
      "deveation from the mean in seconds:\n",
      "[-0.19416666666666682, -0.02416666666666689, 0.13583333333333325, 0.015833333333333144, -0.3041666666666667, 0.2258333333333331, 0.025833333333333153, -0.08416666666666672, 0.13583333333333325, 0.0758333333333332, 0.05583333333333318, -0.0641666666666667]\n",
      "deveation from the mean in seconds with timing error:\n",
      "[-0.20416666666666683, -0.034166666666666894, 0.14583333333333326, 0.025833333333333146, -0.3141666666666667, 0.23583333333333312, 0.035833333333333155, -0.09416666666666672, 0.14583333333333326, 0.08583333333333319, 0.06583333333333317, -0.0741666666666667]\n",
      "RMS = 0.5174214916294064 \n"
     ]
    }
   ],
   "source": [
    "# now let's do it the long way:\n",
    "times = [1.22, 1.39, 1.55, 1.43, 1.11, 1.64, 1.44, 1.33, 1.55, 1.49, 1.47, 1.35]\n",
    "averageTime = sum(times)/len(times) # calculate the mean\n",
    "\n",
    "# calculate the deveation from the mean\n",
    "dt = [] \n",
    "for i in times:\n",
    "    dt.append(i - averageTime) \n",
    "print('deveation from the mean in seconds:\\n%s' % dt)\n",
    "# in the worst case, the error in our time measurement will\n",
    "# compound with the error in our data so let's add it in!\n",
    "for i in range(len(dt)):\n",
    "    if dt[i] > 0: # if the deveation is positive\n",
    "        dt[i] += 0.01 # add the timing uncertinty\n",
    "    if dt[i] < 0: # if its negative\n",
    "        dt[i] -= 0.01 # subtract the timing uncertinty\n",
    "\n",
    "print('deveation from the mean in seconds with timing error:\\n%s' % dt)\n",
    "# take the rms of the deveation from the mean\n",
    "squaredSum = 0\n",
    "for i in dt:\n",
    "    squaredSum += i**2\n",
    "#squaredRMS = squaredSum #/len(dt)\n",
    "RMS = squaredSum**(1/2)\n",
    "print('RMS = %s ' % RMS)\n"
   ]
  },
  {
   "cell_type": "markdown",
   "metadata": {},
   "source": [
    "### Question 1 Answer\n",
    "\n",
    "Mean time = $1.41(s)$   \n",
    "\n",
    "$\\Delta t_{rms}$ = $0.5(s)$"
   ]
  },
  {
   "cell_type": "markdown",
   "metadata": {},
   "source": [
    "# Question 2\n",
    "## Error Propagation; measuring g via dropped velociraptors\n",
    "\n",
    "Suppose you assume that the velociraptor drop experiment was used to determine the acceleration due to gravity. Using your knowledge of basic kinematics (and assuming\n",
    "no air resistance), calculate the experimental value of $g$ that you should report for this data."
   ]
  },
  {
   "cell_type": "markdown",
   "metadata": {},
   "source": [
    "### Solution Method:\n",
    "\n",
    "Edit this text to explain your reasoning. Your explaination should include some\n",
    "properly typeset LaTeX code detailing the equation you are using to compute $g$ as well as how you are calculating the uncertainty in $g$\n",
    "\n",
    "If we assume constant acceleration of the velocoraptor and innital velocity of zero, we can model it's position as a function of time with: \n",
    "$$X_f = X_0 - \\frac{1}{2}gt^2$$\n",
    "\n",
    "solving this equation for g we obtain:\n",
    "$$g = \\frac{2(\\Delta X)}{t^2}$$\n",
    "\n",
    "to get $\\pm g$ we need to use the rms equation: \n",
    "$$\\pm g = \\sqrt{(\\frac{\\delta g}{\\delta t}\\Delta t)^2 + (\\frac{\\delta g}{\\delta X}\\Delta X )^2} $$\n",
    "\n",
    "subbing in our equation for g we get:\n",
    "$$\\pm g = \\sqrt{(\\frac{-4\\Delta X}{t^3}0.01)^2 + (\\frac{2}{t^2}0.1)^2} $$\n",
    "\n",
    "\n",
    "Now we can run through our data and calculate g and give an error for each measurement.\n"
   ]
  },
  {
   "cell_type": "code",
   "execution_count": 77,
   "metadata": {
    "collapsed": false
   },
   "outputs": [
    {
     "name": "stdout",
     "output_type": "stream",
     "text": [
      "[13.437248051599033, 10.351431085347551, 8.324661810613943, 9.780429360848943, 16.232448664881094, 7.436049970255802, 9.645061728395062, 11.306461642828875, 8.324661810613943, 9.008603216071348, 9.255402841408673, 10.973936899862824]\n",
      "[0.25803188881579564, 0.18138017920861263, 0.13589694529359866, 0.1681575780544179, 0.3345022761357636, 0.11727313271954277, 0.1650690350731885, 0.20418393921231529, 0.13589694529359866, 0.1507890738799722, 0.15627880123915555, 0.19614779880324995]\n"
     ]
    }
   ],
   "source": [
    "# This cell is for any needed python code. \n",
    "import matplotlib.pyplot as plt\n",
    "%matplotlib inline\n",
    "plt.rcParams['figure.figsize'] = (16, 8)\n",
    "times = [1.22, 1.39, 1.55, 1.43, 1.11, 1.64, 1.44, 1.33, 1.55, 1.49, 1.47, 1.35]\n",
    "timeError = 0.01\n",
    "deltaX = 10\n",
    "deltaXError = 0.1\n",
    "\n",
    "# make an array of g values\n",
    "g = []\n",
    "# and one of g errors\n",
    "gError = []\n",
    "for i in times:\n",
    "    g.append(2*deltaX/(i**2))\n",
    "    gError.append((((-4*deltaX)/(i**3))**2*timeError**2+((2)/(i**2))**2*deltaXError**2)**(1/2))\n",
    "\n",
    "#plt.plot(g)\n",
    "#plt.show()\n",
    "\n",
    "\n",
    "print(g)\n",
    "print(gError)"
   ]
  },
  {
   "cell_type": "markdown",
   "metadata": {},
   "source": [
    "The variation in our data exceeds our predicted theoretical error so we cannot say that we have accounted for all possible experemental errors. to honestly report g we need to use the experemental data alone or find a better model for our data that acounts for other uncertinties. I'm going to take the uncertinty in g as the deveation from the mean and calculate the mean from the values of g that we obtained. "
   ]
  },
  {
   "cell_type": "code",
   "execution_count": 78,
   "metadata": {
    "collapsed": false
   },
   "outputs": [
    {
     "name": "stdout",
     "output_type": "stream",
     "text": [
      "g = 10.3+/-0.7 (m/s)\n"
     ]
    }
   ],
   "source": [
    "average_g = sum(g)/len(g)\n",
    "gRmsError = []\n",
    "for i in range(len(gError)):\n",
    "    gRmsError.append(gError[i]**2)\n",
    "gRms = (sum(gRmsError))**.5 # take the square root\n",
    "print('g = %s (m/s)' % u.ufloat(average_g, gRms))"
   ]
  },
  {
   "cell_type": "markdown",
   "metadata": {},
   "source": [
    "### Question 2 Answer\n",
    "\n",
    "g = $10.3\\pm0.7 (\\frac{m}{s})$ "
   ]
  },
  {
   "cell_type": "markdown",
   "metadata": {},
   "source": [
    "# Question 3\n",
    "## Determining g with a point mass pendulum via plotting\n",
    "\n",
    "Suppose that you measure the period of a simple pendulum as a function of length   \n",
    "and obtain the following data:   \n",
    "\n",
    "Period Values ($\\pm 0.1$ s) =  0.50, 1.00, 1.50, 2.00, 2.50, 3.00, 3.50, 4.00, 4.50.   \n",
    "Length $(\\pm 0.03)$ m =  0.010,  0.025, 0.070,  0.10,  0.140, 0.230, 0.310, 0.350, 0.500   \n",
    "\n",
    "Knowing that the period of a simple pendulum is   \n",
    "$\\displaystyle T = 2π\\sqrt{\\frac{L}{g}}$   \n",
    "and use an appropriate graph, such that the plot:   \n",
    "\n",
    "    a. gives a straight line whose slope   \n",
    "       directly gives the value of g   \n",
    "    b. shows data points with error bars   \n",
    "    c. includes axes labels and units   \n",
    "    d. includes a best fit line to the data.   \n",
    "\n",
    "Note that you might not be on the earth when conducting this experiment.\n"
   ]
  },
  {
   "cell_type": "markdown",
   "metadata": {},
   "source": [
    "### Solution method:\n",
    "\n",
    "We can solve $\\displaystyle T = 2π\\sqrt{\\frac{L}{g}}$ for g which gives:\n",
    "$$g = \\frac{4\\pi^2 L}{\\displaystyle T^2}$$\n",
    "if we plot the top of the fraction as a function of the bottom we can obtain a slope of g on our errorbar plot."
   ]
  },
  {
   "cell_type": "code",
   "execution_count": 81,
   "metadata": {
    "collapsed": false
   },
   "outputs": [
    {
     "name": "stdout",
     "output_type": "stream",
     "text": [
      "LinregressResult(slope=0.93297068900225744, intercept=0.22454340170555565, rvalue=0.9953316545002634, pvalue=2.2784250226102943e-08, stderr=0.034193236095423282)\n"
     ]
    },
    {
     "data": {
      "image/png": "[encoded data removed]",
      "text/plain": [
       "<matplotlib.figure.Figure at 0x1f7f2307f98>"
      ]
     },
     "metadata": {},
     "output_type": "display_data"
    }
   ],
   "source": [
    "# place your python code here. Make sure your plot has axes labels with units!\n",
    "import numpy as np\n",
    "from scipy.stats import linregress\n",
    "Period = np.array(([0.50, 1.00, 1.50, 2.00, 2.50, 3.00, 3.50, 4.00, 4.50])) # Period Values (±0.1 s)\n",
    "l = np.array(([0.010, 0.025, 0.070, 0.10, 0.140, 0.230, 0.310, 0.350, 0.500])) # Length (±0.03) m\n",
    "\n",
    "# convert to ufloat arrays\n",
    "#Period = unumpy.uarray(Period, 0.1)\n",
    "#l = u.unumpy.uarray(l, 0.03)\n",
    "#print((l))\n",
    "\n",
    "rise = 4 * 3.1415926**2 * l\n",
    "riseError = 4 * 3.1415926**2 * 0.03\n",
    "run = Period**2\n",
    "runError = 0.1**2\n",
    "\n",
    "print(linregress(run, rise))\n",
    "#print(rise)\n",
    "plt.xlabel('$T^2(s^2)$', fontsize=16)\n",
    "plt.ylabel('$4\\pi^2L(m)$', fontsize=16)\n",
    "plt.plot([0,25],[0.22454340170555565, 0.93297068900225744*25 + 0.22454340170555565])\n",
    "plt.errorbar(run, rise, xerr=runError, yerr=riseError, fmt='None')\n",
    "plt.show()\n",
    "\n"
   ]
  },
  {
   "cell_type": "markdown",
   "metadata": {},
   "source": [
    "get the $\\pm$ slope by visual inspection:"
   ]
  },
  {
   "cell_type": "code",
   "execution_count": 83,
   "metadata": {
    "collapsed": false
   },
   "outputs": [
    {
     "name": "stdout",
     "output_type": "stream",
     "text": [
      "[  0.25   1.     2.25   4.     6.25   9.    12.25  16.    20.25]\n",
      "1.1\n"
     ]
    }
   ],
   "source": [
    "print(run)\n",
    "print(22/20)"
   ]
  },
  {
   "cell_type": "markdown",
   "metadata": {},
   "source": [
    "### Question 3 Answer\n",
    "\n",
    "g $\\pm\\;\\Delta$ g = $0.93\\pm0.2(m/s)$"
   ]
  },
  {
   "cell_type": "markdown",
   "metadata": {},
   "source": [
    "# Final Step for online portion\n",
    "## Final steps, then move on to written portion\n",
    "\n",
    "Now make sure to commit your changes to your master copy, but before doing so, place a link to your repository in the next cell.   "
   ]
  },
  {
   "cell_type": "markdown",
   "metadata": {},
   "source": [
    "Repository Link = https://github.com/WilliamMorse/I-Lab2FinalWilliamMorse"
   ]
  },
  {
   "cell_type": "code",
   "execution_count": null,
   "metadata": {
    "collapsed": true
   },
   "outputs": [],
   "source": []
  }
 ],
 "metadata": {
  "kernelspec": {
   "display_name": "Python 3",
   "language": "python",
   "name": "python3"
  },
  "language_info": {
   "codemirror_mode": {
    "name": "ipython",
    "version": 3
   },
   "file_extension": ".py",
   "mimetype": "text/x-python",
   "name": "python",
   "nbconvert_exporter": "python",
   "pygments_lexer": "ipython3",
   "version": "3.5.1"
  }
 },
 "nbformat": 4,
 "nbformat_minor": 0
}
